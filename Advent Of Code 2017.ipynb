{
 "cells": [
  {
   "cell_type": "code",
   "execution_count": 90,
   "metadata": {
    "collapsed": true
   },
   "outputs": [],
   "source": [
    "'''Day 1'''\n",
    "def day1Ans(n,h): #input n as string\n",
    "    n=str(n)\n",
    "    ans=0\n",
    "    for i in range(len(n)):\n",
    "        if n[i]==n[(i+h)%len(n)]:\n",
    "            ans+=int(n[i])\n",
    "    return ans"
   ]
  },
  {
   "cell_type": "code",
   "execution_count": 91,
   "metadata": {
    "collapsed": false
   },
   "outputs": [
    {
     "name": "stdout",
     "output_type": "stream",
     "text": [
      "1177\n",
      "1060\n"
     ]
    }
   ],
   "source": [
    "n=\"3893445835429722678558456317563893861752455542588369533636585887178232467588827193173595918648538852463974393264428538856739259399322741844613957229674619566966921656443476317729968764183945899765294481327998956154956571467872487576314549468261122281384513266834769436913544431258253346374641589492728885222652146158261225296144835682556133922436438188211288458692217737145834468534829945993366314375465767468939773939978272968388546791547526366348163672162245585168892858977723516752284597322176349412485116173844733679871253985762643852151748396593275274582481295864991886985988427966155944392352248314629138972358467959614279553511247863869663526823326467571462371663396188951696286916979923587358992127741723727623235238531991996999181976664226274715591531566495345212849683589582225465555847312199122268773923175183128124556249916458878785361322713513153175157855597289482439449732469754748544437553251412476225415932478849961897299721228198262823515159848941742786272262236888514421279147329383465929358896761449135917829473321834267122759371247338155787774952626616791265889922959653887288735233291968146648533754958199821789499914763279869931218136266492627818972334549751282191883558361871277375851259751294611921756927694394977764633932938573132221389861617195291742156362494769521829599476753198422283287735888197584327719697758442462886311961723849326959213928195182293316227334998926839139915138472514686689887874559367524254175582135318545912361877139367538434683933333264146289842238921989275112323681356256979576948644489986951538689949884787173194457523474156229389465725473817651516136514446513436419126533875125645855223921197481833434658264655912731133356464193251635637423222227273192628825165993827511625956856754776849919858414375874943572889154281862749595896438581889424559988914658387293414662361364793844213298677236787998677166743945812899526292132465751582925131262933636228593134861363493849168168765261647652342891576445292462341171477487223253795935253493869317616741963486473\"\n",
    "print day1Ans(n,1) #part 1\n",
    "print day1Ans(n,len(n)//2) #part 2"
   ]
  },
  {
   "cell_type": "code",
   "execution_count": 92,
   "metadata": {
    "collapsed": true
   },
   "outputs": [],
   "source": [
    "'''Day 2'''\n",
    "def day2Ans(n): #input n as 2D array\n",
    "    ans=0\n",
    "    test=0\n",
    "    for val in n:\n",
    "        test+=1\n",
    "        for i in range(len(val)):\n",
    "            for j in range(i+1,len(val)):\n",
    "                if (val[i]%val[j])==0:\n",
    "                    ans+=val[i]/val[j]\n",
    "                if (val[j]%val[i])==0:\n",
    "                    ans+=val[j]/val[i]\n",
    "    return ans\n",
    "                    "
   ]
  },
  {
   "cell_type": "code",
   "execution_count": 93,
   "metadata": {
    "collapsed": false
   },
   "outputs": [
    {
     "data": {
      "text/plain": [
       "308"
      ]
     },
     "execution_count": 93,
     "metadata": {},
     "output_type": "execute_result"
    }
   ],
   "source": [
    "n=[[5048,177,5280,5058,4504,3805,5735,220,4362,1809,1521,230,772,1088,178,1794],[6629,3839,258,4473,5961,6539,6870,4140,4638,387,7464,229,4173,5706,185,271],[5149,2892,5854,2000,256,3995,5250,249,3916,184,2497,210,4601,3955,1110,5340],[153,468,550,126,495,142,385,144,165,188,609,182,439,545,608,319],[1123,104,567,1098,286,665,1261,107,227,942,1222,128,1001,122,69,139],[111,1998,1148,91,1355,90,202,1522,1496,1362,1728,109,2287,918,2217,1138],[426,372,489,226,344,431,67,124,120,386,348,153,242,133,112,369],[1574,265,144,2490,163,749,3409,3086,154,151,133,990,1002,3168,588,2998],[173,192,2269,760,1630,215,966,2692,3855,3550,468,4098,3071,162,329,3648],[1984,300,163,5616,4862,586,4884,239,1839,169,5514,4226,5551,3700,216,5912],[1749,2062,194,1045,2685,156,3257,1319,3199,2775,211,213,1221,198,2864,2982],[273,977,89,198,85,1025,1157,1125,69,94,919,103,1299,998,809,478],[1965,6989,230,2025,6290,2901,192,215,4782,6041,6672,7070,7104,207,7451,5071],[1261,77,1417,1053,2072,641,74,86,91,1878,1944,2292,1446,689,2315,1379],[296,306,1953,3538,248,1579,4326,2178,5021,2529,794,5391,4712,3734,261,4362],[2426,192,1764,288,4431,2396,2336,854,2157,216,4392,3972,229,244,4289,1902]]\n",
    "day2Ans(n)"
   ]
  },
  {
   "cell_type": "code",
   "execution_count": 96,
   "metadata": {
    "collapsed": false,
    "scrolled": true
   },
   "outputs": [],
   "source": [
    "'''Day 3'''\n",
    "import math\n",
    "\n",
    "def day3Ans1(n):\n",
    "    smf=math.floor(math.sqrt(n))\n",
    "    if smf%2==0:\n",
    "        smf-=1\n",
    "    a=(smf+2)*(smf+2)\n",
    "    midinterval=((a-smf*smf)//4)/2\n",
    "    midpts=[a-midinterval,a-midinterval*3,a-midinterval*5,a-midinterval*7]\n",
    "    offset=min([abs(n-val) for val in midpts])\n",
    "    level=((smf+2)-1)/2\n",
    "    return int(level+offset)   \n",
    "\n",
    "def sumValues(prev,x,y,new_prev): #utility function for calculating values for a single cell\n",
    "    value=0\n",
    "    pos=[(x,y+1),(x,y-1),(x-1,y),(x+1,y),(x+1,y+1),(x-1,y+1),(x-1,y-1),(x+1,y-1)]\n",
    "    for val in pos:\n",
    "        if val in prev:\n",
    "            value+=prev[val]\n",
    "    prev[(x,y)]=value\n",
    "    new_prev[(x,y)]=value\n",
    "    return value\n",
    "\n",
    "#calculating the spiral recursively by saving the previous outer spiral as sparse matrix\n",
    "def day3Ans2(n,prev={(0,0):1},level=0): \n",
    "    if n<1:\n",
    "        return 1\n",
    "    level+=1\n",
    "    new_prev={} \n",
    "    step=level*2\n",
    "    x=level\n",
    "    y=1-level\n",
    "    for i in range(step-1):\n",
    "        value=sumValues(prev,x,y,new_prev)\n",
    "        if value>n:\n",
    "            return value\n",
    "        y+=1  \n",
    "    for i in range(step):\n",
    "        value=sumValues(prev,x,y,new_prev)\n",
    "        if value>n:\n",
    "            return value\n",
    "        x-=1\n",
    "    for i in range(step):\n",
    "        value=sumValues(prev,x,y,new_prev)\n",
    "        if value>n:\n",
    "            return value\n",
    "        y-=1\n",
    "    for i in range(step+1):\n",
    "        value=sumValues(prev,x,y,new_prev)\n",
    "        if value>n:\n",
    "            return value\n",
    "        x+=1 \n",
    "    del prev #remove the inner spiral memory to save space\n",
    "    return day3Ans2(n,new_prev,level)\n",
    "   "
   ]
  },
  {
   "cell_type": "code",
   "execution_count": 97,
   "metadata": {
    "collapsed": false
   },
   "outputs": [
    {
     "data": {
      "text/plain": [
       "349975"
      ]
     },
     "execution_count": 97,
     "metadata": {},
     "output_type": "execute_result"
    }
   ],
   "source": [
    "day3Ans1(347991)\n",
    "day3Ans2(347991) "
   ]
  },
  {
   "cell_type": "code",
   "execution_count": null,
   "metadata": {
    "collapsed": true
   },
   "outputs": [],
   "source": []
  }
 ],
 "metadata": {
  "kernelspec": {
   "display_name": "Python 2",
   "language": "python",
   "name": "python2"
  },
  "language_info": {
   "codemirror_mode": {
    "name": "ipython",
    "version": 2
   },
   "file_extension": ".py",
   "mimetype": "text/x-python",
   "name": "python",
   "nbconvert_exporter": "python",
   "pygments_lexer": "ipython2",
   "version": "2.7.10"
  }
 },
 "nbformat": 4,
 "nbformat_minor": 2
}
